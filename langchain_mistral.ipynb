{
 "cells": [
  {
   "cell_type": "markdown",
   "metadata": {},
   "source": [
    "# Langchain\n",
    "\n",
    "3 utilisations principales:\n",
    "\n",
    "- Components (Wrappers, prompt templates, RAG)\n",
    "- Chains (Assemble components to solve specific task)\n",
    "- Agents (Allow LLM to interact with is environement)"
   ]
  },
  {
   "cell_type": "code",
   "execution_count": null,
   "metadata": {},
   "outputs": [],
   "source": [
    "# Install the requirements\n",
    "# uv pip install python-dotenv langchain"
   ]
  },
  {
   "cell_type": "code",
   "execution_count": 25,
   "metadata": {},
   "outputs": [
    {
     "data": {
      "text/plain": [
       "True"
      ]
     },
     "execution_count": 25,
     "metadata": {},
     "output_type": "execute_result"
    }
   ],
   "source": [
    "from dotenv import load_dotenv, find_dotenv\n",
    "load_dotenv(find_dotenv())"
   ]
  },
  {
   "cell_type": "markdown",
   "metadata": {},
   "source": [
    "# Invoker le model"
   ]
  },
  {
   "cell_type": "code",
   "execution_count": null,
   "metadata": {},
   "outputs": [],
   "source": [
    "from langchain_mistralai import ChatMistralAI\n",
    "\n",
    "llm = ChatMistralAI(\n",
    "    model=\"mistral-small-latest\",\n",
    "    temperature=0,\n",
    "    max_retries=2,\n",
    "    )"
   ]
  },
  {
   "cell_type": "markdown",
   "metadata": {},
   "source": [
    "## Generation simple et sans contexte"
   ]
  },
  {
   "cell_type": "code",
   "execution_count": 32,
   "metadata": {},
   "outputs": [
    {
     "name": "stdout",
     "output_type": "stream",
     "text": [
      "Hello Ethan! I'm an AI assistant. I don't have a name or personal experiences, but I'm here to help answer your questions, provide information, or just chat if you're up for it. How can I assist you today?\n"
     ]
    }
   ],
   "source": [
    "result = llm.predict('Hi im Ethan and u ? ')\n",
    "print(result)"
   ]
  },
  {
   "cell_type": "markdown",
   "metadata": {},
   "source": [
    "## Avec Contexte"
   ]
  },
  {
   "cell_type": "code",
   "execution_count": null,
   "metadata": {},
   "outputs": [
    {
     "data": {
      "text/plain": [
       "AIMessage(content=\"Hello! I'm Unity. How can I assist you today?\", additional_kwargs={}, response_metadata={'token_usage': {'prompt_tokens': 18, 'total_tokens': 33, 'completion_tokens': 15}, 'model': 'mistral-large-latest', 'finish_reason': 'stop'}, id='run-9b0e0a1d-b8b0-474e-92e1-6922aa5b9797-0', usage_metadata={'input_tokens': 18, 'output_tokens': 15, 'total_tokens': 33})"
      ]
     },
     "execution_count": 29,
     "metadata": {},
     "output_type": "execute_result"
    }
   ],
   "source": [
    "messages = [\n",
    "    (\n",
    "        \"system\",\n",
    "        \"You are a helpful assistant named Unity\",\n",
    "    ),\n",
    "    (\"human\", \"Whats your name ?\"),\n",
    "]"
   ]
  },
  {
   "cell_type": "code",
   "execution_count": null,
   "metadata": {},
   "outputs": [
    {
     "name": "stdout",
     "output_type": "stream",
     "text": [
      "Hello! I'm Unity. How can I assist you today?\n"
     ]
    }
   ],
   "source": [
    "ai_msg = llm.invoke(messages)\n",
    "print(ai_msg.content)"
   ]
  },
  {
   "cell_type": "markdown",
   "metadata": {},
   "source": [
    "## Chat Model\n",
    "https://python.langchain.com/v0.1/docs/modules/model_io/chat/quick_start/"
   ]
  },
  {
   "cell_type": "code",
   "execution_count": 39,
   "metadata": {},
   "outputs": [],
   "source": [
    "from langchain_mistralai import ChatMistralAI\n",
    "from langchain.prompts.chat import (\n",
    "    HumanMessagePromptTemplate,\n",
    "    ChatPromptTemplate\n",
    ")\n",
    "\n",
    "PROMPT_COUNTRY_INFO = \"Provide information about {country}.\"\n",
    "\n",
    "\n",
    "def main():\n",
    "    chat = ChatMistralAI(model=\"mistral-small-latest\")\n",
    "\n",
    "    country = input('Name a country: ')\n",
    "    \n",
    "    message = HumanMessagePromptTemplate.from_template(template=PROMPT_COUNTRY_INFO)\n",
    "    chat_prompt = ChatPromptTemplate.from_messages(messages=[message])\n",
    "    chat_prompt_with_values = chat_prompt.format_prompt(country=country)\n",
    "\n",
    "    response = chat(chat_prompt_with_values.to_messages())\n",
    "    print(response.content)\n",
    "\n",
    "\n"
   ]
  },
  {
   "cell_type": "code",
   "execution_count": 40,
   "metadata": {},
   "outputs": [
    {
     "name": "stdout",
     "output_type": "stream",
     "text": [
      "France, officially known as the French Republic, is a country located in Western Europe. Here are some key points of information about France:\n",
      "\n",
      "### Geography:\n",
      "- **Location:** Western Europe, bordered by Belgium, Luxembourg, Germany, Switzerland, Italy, Monaco, Spain, Andorra, and the Mediterranean Sea.\n",
      "- **Capital:** Paris\n",
      "- **Major Cities:** Marseille, Lyon, Toulouse, Nice, Nantes, Montpellier, Strasbourg, Lille, Bordeaux.\n",
      "- **Landmarks:** Eiffel Tower, Louvre Museum, Palace of Versailles, Mont Blanc, French Riviera, Champs-Élysées, Notre-Dame Cathedral.\n",
      "\n",
      "### Government and Politics:\n",
      "- **Form of Government:** Semi-presidential republic\n",
      "- **Head of State:** President (currently Emmanuel Macron as of my last update in October 2023)\n",
      "- **Legislature:** Bicameral Parliament consisting of the National Assembly and the Senate\n",
      "- **Political Parties:** Includes a range of parties from left to right, such as La République En Marche!, The Republicans, National Rally, and Socialist Party.\n",
      "\n",
      "### Economy:\n",
      "- **Type:** Mixed economy with a strong focus on services, manufacturing, agriculture, and tourism.\n",
      "- **Currency:** Euro\n",
      "- **Major Industries:** Aerospace, automotive, defense, telecommunications, tourism, fashion, luxury goods, and food and beverage.\n",
      "- **GDP:** One of the largest economies in the world, typically ranking among the top five globally.\n",
      "\n",
      "### Culture:\n",
      "- **Language:** French (official), but also other regional languages and dialects.\n",
      "- **Religion:** Predominantly Roman Catholic, but includes significant Muslim, Protestant, and Jewish populations, as well as a growing number of non-religious people.\n",
      "- **Cuisine:** Known for its diverse and rich culinary traditions, including dishes like escargot, coq au vin, ratatouille, and pastries like croissants and macarons.\n",
      "- **Festivals:** Bastille Day (July 14), winter sales, Cannes Film Festival, and various regional festivals.\n",
      "\n",
      "### History:\n",
      "- **Ancient and Medieval:** Settled by Celts, then conquered by Romans, and later by the Franks and Visigoths. The kingdom of France emerged during the Middle Ages.\n",
      "- **Modern Era:** Revolutionary period (1789-1799) leading to the French Revolution, Napoleonic Wars (1799-1815), and more recent conflicts like World War I and II.\n",
      "- **Colonial Empire:** Once one of the largest colonial powers, with colonies in Africa, Asia, and the Americas.\n",
      "\n",
      "### Education:\n",
      "- **System:** Free and mandatory education from ages 6 to 16.\n",
      "- **Universities:** Prestigious institutions like Sorbonne University, École Normale Supérieure, and Sciences Po.\n",
      "- **International:** Known for welcoming international students and having a strong presence in global education rankings.\n",
      "\n",
      "### Tourism:\n",
      "- **Attractions:** Paris is the most visited city, with iconic landmarks like the Eiffel Tower, Louvre Museum, and Notre-Dame Cathedral.\n",
      "- **Regions:** French Alps, French Riviera, French countryside, and various cultural and historical sites across the country.\n",
      "\n",
      "### Sports:\n",
      "- **Popular Sports:** Football (soccer), rugby, cycling (Tour de France), tennis (Roland-Garros), and skiing.\n",
      "- **National Teams:** French national football team and rugby teams are highly regarded.\n",
      "\n",
      "France is a country with a rich history, diverse culture, and significant global influence, making it a favorite destination for travelers and a key player in international affairs.\n"
     ]
    }
   ],
   "source": [
    "main()"
   ]
  },
  {
   "cell_type": "markdown",
   "metadata": {},
   "source": [
    "### Convert the output to json format"
   ]
  },
  {
   "cell_type": "code",
   "execution_count": 56,
   "metadata": {},
   "outputs": [],
   "source": [
    "from langchain_mistralai import ChatMistralAI\n",
    "from langchain.prompts.chat import (\n",
    "    HumanMessagePromptTemplate,\n",
    "    ChatPromptTemplate\n",
    ")\n",
    "from pydantic import BaseModel, Field\n",
    "from langchain.output_parsers import PydanticOutputParser\n",
    "\n",
    "class Country(BaseModel):\n",
    "    capital: str = Field(description='Capital of the country')\n",
    "    name: str = Field(description='Name of the country')\n",
    "\n",
    "PROMPT_COUNTRY_INFO = \"\"\"\n",
    "Provide information about {country}.\n",
    "{format_instructions}\n",
    "\"\"\"\n",
    "\n",
    "def main():\n",
    "    chat = ChatMistralAI(model=\"mistral-small-latest\")\n",
    "    parser = PydanticOutputParser(pydantic_object=Country)\n",
    "\n",
    "    country = input('Name a country: ')\n",
    "\n",
    "    message = HumanMessagePromptTemplate.from_template(template=PROMPT_COUNTRY_INFO)\n",
    "    chat_prompt = ChatPromptTemplate.from_messages(messages=[message])\n",
    "    chat_prompt_with_values = chat_prompt.format_prompt(country=str(country), format_instructions=parser.get_format_instructions())\n",
    "\n",
    "    response = chat(chat_prompt_with_values.to_messages())\n",
    "    data = parser.parse(response.content)\n",
    "    # print(response.content)\n",
    "    print(data.capital)\n",
    "\n"
   ]
  },
  {
   "cell_type": "code",
   "execution_count": 57,
   "metadata": {},
   "outputs": [
    {
     "name": "stdout",
     "output_type": "stream",
     "text": [
      "Paris\n"
     ]
    }
   ],
   "source": [
    "main()"
   ]
  },
  {
   "cell_type": "markdown",
   "metadata": {},
   "source": [
    "# Exemple de chain"
   ]
  },
  {
   "cell_type": "code",
   "execution_count": null,
   "metadata": {},
   "outputs": [],
   "source": [
    "from langchain_core.prompts import ChatPromptTemplate\n",
    "\n",
    "prompt = ChatPromptTemplate.from_messages(\n",
    "    [\n",
    "        (\n",
    "            \"system\",\n",
    "            \"You are a helpful assistant that translates {input_language} to {output_language}.\",\n",
    "        ),\n",
    "        (\"human\", \"{input}\"),\n",
    "    ]\n",
    ")\n",
    "\n",
    "chain = prompt | llm\n",
    "chain.invoke(\n",
    "    {\n",
    "        \"input_language\": \"English\",\n",
    "        \"output_language\": \"German\",\n",
    "        \"input\": \"I love programming.\",\n",
    "    }\n",
    ")"
   ]
  }
 ],
 "metadata": {
  "kernelspec": {
   "display_name": ".venv_langchain",
   "language": "python",
   "name": "python3"
  },
  "language_info": {
   "codemirror_mode": {
    "name": "ipython",
    "version": 3
   },
   "file_extension": ".py",
   "mimetype": "text/x-python",
   "name": "python",
   "nbconvert_exporter": "python",
   "pygments_lexer": "ipython3",
   "version": "3.11.6"
  }
 },
 "nbformat": 4,
 "nbformat_minor": 2
}
